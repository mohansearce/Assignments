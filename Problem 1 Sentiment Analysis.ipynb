{
 "cells": [
  {
   "cell_type": "code",
   "execution_count": 3,
   "id": "548dc3cd",
   "metadata": {},
   "outputs": [],
   "source": [
    "# Importing needed libraries\n",
    "import numpy as np\n",
    "import pandas as pd\n",
    "import seaborn as sns\n",
    "import matplotlib.pyplot as plt\n",
    "%matplotlib inline\n",
    "from collections import Counter\n",
    "from sklearn.feature_extraction.text import CountVectorizer\n",
    "from sklearn.feature_extraction.text import TfidfVectorizer\n",
    "\n",
    "# NLTK tools for text processing\n",
    "import re, nltk\n",
    "from nltk import word_tokenize\n",
    "from nltk.corpus import stopwords\n",
    "from wordcloud import WordCloud, STOPWORDS\n",
    "\n",
    "\n",
    "# Modeling packages\n",
    "from sklearn.model_selection import train_test_split\n",
    "from sklearn.linear_model import LogisticRegression\n",
    "from sklearn.ensemble import RandomForestClassifier\n",
    "from sklearn.metrics import accuracy_score\n",
    "from sklearn.metrics import f1_score\n",
    "\n",
    "from IPython.core.interactiveshell import InteractiveShell\n",
    "InteractiveShell.ast_node_interactivity = 'all'"
   ]
  },
  {
   "cell_type": "code",
   "execution_count": 5,
   "id": "1fe66d05",
   "metadata": {},
   "outputs": [
    {
     "name": "stdout",
     "output_type": "stream",
     "text": [
      "\u001b[38;5;3m⚠ Skipping model package dependencies and setting `--no-deps`. You\n",
      "don't seem to have the spaCy package itself installed (maybe because you've\n",
      "built from source?), so installing the model dependencies would cause spaCy to\n",
      "be downloaded, which probably isn't what you want. If the model package has\n",
      "other dependencies, you'll have to install them manually.\u001b[0m\n",
      "\u001b[38;5;2m✔ Download and installation successful\u001b[0m\n",
      "You can now load the model via spacy.load('pt_core_news_sm')\n"
     ]
    }
   ],
   "source": [
    "import spacy.cli\n",
    "spacy.cli.download(\"pt_core_news_sm\")"
   ]
  },
  {
   "cell_type": "code",
   "execution_count": 6,
   "id": "6ea40a66",
   "metadata": {},
   "outputs": [],
   "source": [
    "import pt_core_news_sm\n",
    "\n",
    "spc_pt = pt_core_news_sm.load()"
   ]
  },
  {
   "cell_type": "code",
   "execution_count": 7,
   "id": "c8c05267",
   "metadata": {},
   "outputs": [
    {
     "data": {
      "text/html": [
       "<div>\n",
       "<style scoped>\n",
       "    .dataframe tbody tr th:only-of-type {\n",
       "        vertical-align: middle;\n",
       "    }\n",
       "\n",
       "    .dataframe tbody tr th {\n",
       "        vertical-align: top;\n",
       "    }\n",
       "\n",
       "    .dataframe thead th {\n",
       "        text-align: right;\n",
       "    }\n",
       "</style>\n",
       "<table border=\"1\" class=\"dataframe\">\n",
       "  <thead>\n",
       "    <tr style=\"text-align: right;\">\n",
       "      <th></th>\n",
       "      <th>review_id</th>\n",
       "      <th>order_id</th>\n",
       "      <th>review_score</th>\n",
       "      <th>review_comment_title</th>\n",
       "      <th>review_comment_message</th>\n",
       "      <th>review_creation_date</th>\n",
       "      <th>review_answer_timestamp</th>\n",
       "    </tr>\n",
       "  </thead>\n",
       "  <tbody>\n",
       "    <tr>\n",
       "      <th>0</th>\n",
       "      <td>7bc2406110b926393aa56f80a40eba40</td>\n",
       "      <td>73fc7af87114b39712e6da79b0a377eb</td>\n",
       "      <td>4</td>\n",
       "      <td>NaN</td>\n",
       "      <td>NaN</td>\n",
       "      <td>2018-01-18 00:00:00</td>\n",
       "      <td>2018-01-18 21:46:59</td>\n",
       "    </tr>\n",
       "    <tr>\n",
       "      <th>1</th>\n",
       "      <td>80e641a11e56f04c1ad469d5645fdfde</td>\n",
       "      <td>a548910a1c6147796b98fdf73dbeba33</td>\n",
       "      <td>5</td>\n",
       "      <td>NaN</td>\n",
       "      <td>NaN</td>\n",
       "      <td>2018-03-10 00:00:00</td>\n",
       "      <td>2018-03-11 03:05:13</td>\n",
       "    </tr>\n",
       "  </tbody>\n",
       "</table>\n",
       "</div>"
      ],
      "text/plain": [
       "                          review_id                          order_id  \\\n",
       "0  7bc2406110b926393aa56f80a40eba40  73fc7af87114b39712e6da79b0a377eb   \n",
       "1  80e641a11e56f04c1ad469d5645fdfde  a548910a1c6147796b98fdf73dbeba33   \n",
       "\n",
       "   review_score review_comment_title review_comment_message  \\\n",
       "0             4                  NaN                    NaN   \n",
       "1             5                  NaN                    NaN   \n",
       "\n",
       "  review_creation_date review_answer_timestamp  \n",
       "0  2018-01-18 00:00:00     2018-01-18 21:46:59  \n",
       "1  2018-03-10 00:00:00     2018-03-11 03:05:13  "
      ]
     },
     "execution_count": 7,
     "metadata": {},
     "output_type": "execute_result"
    }
   ],
   "source": [
    "data= pd.read_csv('archive/olist_order_reviews_dataset.csv')\n",
    "data.head(2)"
   ]
  },
  {
   "cell_type": "code",
   "execution_count": 8,
   "id": "c3f31f49",
   "metadata": {},
   "outputs": [],
   "source": [
    "data.drop(['order_id', 'review_creation_date', 'review_answer_timestamp'],\n",
    "          1, inplace = True)"
   ]
  },
  {
   "cell_type": "code",
   "execution_count": 9,
   "id": "9b56f7e1",
   "metadata": {},
   "outputs": [
    {
     "name": "stdout",
     "output_type": "stream",
     "text": [
      "<class 'pandas.core.frame.DataFrame'>\n",
      "RangeIndex: 100000 entries, 0 to 99999\n",
      "Data columns (total 4 columns):\n",
      " #   Column                  Non-Null Count   Dtype \n",
      "---  ------                  --------------   ----- \n",
      " 0   review_id               100000 non-null  object\n",
      " 1   review_score            100000 non-null  int64 \n",
      " 2   review_comment_title    11715 non-null   object\n",
      " 3   review_comment_message  41753 non-null   object\n",
      "dtypes: int64(1), object(3)\n",
      "memory usage: 3.1+ MB\n"
     ]
    }
   ],
   "source": [
    "data.info()\n"
   ]
  },
  {
   "cell_type": "code",
   "execution_count": 10,
   "id": "96b48458",
   "metadata": {},
   "outputs": [
    {
     "name": "stdout",
     "output_type": "stream",
     "text": [
      "Duplicate values in percentage 0.83 %\n"
     ]
    }
   ],
   "source": [
    "duplicate=round(sum(data.duplicated(\"review_id\"))/len(data)*100, 2)\n",
    "print( 'Duplicate values in percentage',duplicate,'%')"
   ]
  },
  {
   "cell_type": "code",
   "execution_count": 11,
   "id": "dab22a46",
   "metadata": {},
   "outputs": [
    {
     "data": {
      "text/html": [
       "<div>\n",
       "<style scoped>\n",
       "    .dataframe tbody tr th:only-of-type {\n",
       "        vertical-align: middle;\n",
       "    }\n",
       "\n",
       "    .dataframe tbody tr th {\n",
       "        vertical-align: top;\n",
       "    }\n",
       "\n",
       "    .dataframe thead th {\n",
       "        text-align: right;\n",
       "    }\n",
       "</style>\n",
       "<table border=\"1\" class=\"dataframe\">\n",
       "  <thead>\n",
       "    <tr style=\"text-align: right;\">\n",
       "      <th></th>\n",
       "      <th>review_id</th>\n",
       "      <th>review_score</th>\n",
       "      <th>review_comment_title</th>\n",
       "      <th>review_comment_message</th>\n",
       "    </tr>\n",
       "  </thead>\n",
       "  <tbody>\n",
       "    <tr>\n",
       "      <th>47045</th>\n",
       "      <td>00130cbe1f9d422698c812ed8ded1919</td>\n",
       "      <td>1</td>\n",
       "      <td>NaN</td>\n",
       "      <td>O cartucho \"original HP\" 60XL não é reconhecid...</td>\n",
       "    </tr>\n",
       "    <tr>\n",
       "      <th>30062</th>\n",
       "      <td>00130cbe1f9d422698c812ed8ded1919</td>\n",
       "      <td>1</td>\n",
       "      <td>NaN</td>\n",
       "      <td>O cartucho \"original HP\" 60XL não é reconhecid...</td>\n",
       "    </tr>\n",
       "    <tr>\n",
       "      <th>63695</th>\n",
       "      <td>0115633a9c298b6a98bcbe4eee75345f</td>\n",
       "      <td>5</td>\n",
       "      <td>NaN</td>\n",
       "      <td>NaN</td>\n",
       "    </tr>\n",
       "    <tr>\n",
       "      <th>91399</th>\n",
       "      <td>0115633a9c298b6a98bcbe4eee75345f</td>\n",
       "      <td>5</td>\n",
       "      <td>NaN</td>\n",
       "      <td>NaN</td>\n",
       "    </tr>\n",
       "    <tr>\n",
       "      <th>57727</th>\n",
       "      <td>0174caf0ee5964646040cd94e15ac95e</td>\n",
       "      <td>1</td>\n",
       "      <td>NaN</td>\n",
       "      <td>Produto entregue dentro de embalagem do fornec...</td>\n",
       "    </tr>\n",
       "    <tr>\n",
       "      <th>...</th>\n",
       "      <td>...</td>\n",
       "      <td>...</td>\n",
       "      <td>...</td>\n",
       "      <td>...</td>\n",
       "    </tr>\n",
       "    <tr>\n",
       "      <th>40677</th>\n",
       "      <td>fe5c833752953fed3209646f1f63b53c</td>\n",
       "      <td>1</td>\n",
       "      <td>NaN</td>\n",
       "      <td>Comprei dois produtos e ambos, mesmo enviados ...</td>\n",
       "    </tr>\n",
       "    <tr>\n",
       "      <th>7924</th>\n",
       "      <td>ff2fc9e68f8aabfbe18d710b83aabd30</td>\n",
       "      <td>2</td>\n",
       "      <td>NaN</td>\n",
       "      <td>NaN</td>\n",
       "    </tr>\n",
       "    <tr>\n",
       "      <th>83183</th>\n",
       "      <td>ff2fc9e68f8aabfbe18d710b83aabd30</td>\n",
       "      <td>2</td>\n",
       "      <td>NaN</td>\n",
       "      <td>NaN</td>\n",
       "    </tr>\n",
       "    <tr>\n",
       "      <th>1997</th>\n",
       "      <td>ffb8cff872a625632ac983eb1f88843c</td>\n",
       "      <td>3</td>\n",
       "      <td>NaN</td>\n",
       "      <td>NaN</td>\n",
       "    </tr>\n",
       "    <tr>\n",
       "      <th>74551</th>\n",
       "      <td>ffb8cff872a625632ac983eb1f88843c</td>\n",
       "      <td>3</td>\n",
       "      <td>NaN</td>\n",
       "      <td>NaN</td>\n",
       "    </tr>\n",
       "  </tbody>\n",
       "</table>\n",
       "<p>1629 rows × 4 columns</p>\n",
       "</div>"
      ],
      "text/plain": [
       "                              review_id  review_score review_comment_title  \\\n",
       "47045  00130cbe1f9d422698c812ed8ded1919             1                  NaN   \n",
       "30062  00130cbe1f9d422698c812ed8ded1919             1                  NaN   \n",
       "63695  0115633a9c298b6a98bcbe4eee75345f             5                  NaN   \n",
       "91399  0115633a9c298b6a98bcbe4eee75345f             5                  NaN   \n",
       "57727  0174caf0ee5964646040cd94e15ac95e             1                  NaN   \n",
       "...                                 ...           ...                  ...   \n",
       "40677  fe5c833752953fed3209646f1f63b53c             1                  NaN   \n",
       "7924   ff2fc9e68f8aabfbe18d710b83aabd30             2                  NaN   \n",
       "83183  ff2fc9e68f8aabfbe18d710b83aabd30             2                  NaN   \n",
       "1997   ffb8cff872a625632ac983eb1f88843c             3                  NaN   \n",
       "74551  ffb8cff872a625632ac983eb1f88843c             3                  NaN   \n",
       "\n",
       "                                  review_comment_message  \n",
       "47045  O cartucho \"original HP\" 60XL não é reconhecid...  \n",
       "30062  O cartucho \"original HP\" 60XL não é reconhecid...  \n",
       "63695                                                NaN  \n",
       "91399                                                NaN  \n",
       "57727  Produto entregue dentro de embalagem do fornec...  \n",
       "...                                                  ...  \n",
       "40677  Comprei dois produtos e ambos, mesmo enviados ...  \n",
       "7924                                                 NaN  \n",
       "83183                                                NaN  \n",
       "1997                                                 NaN  \n",
       "74551                                                NaN  \n",
       "\n",
       "[1629 rows x 4 columns]"
      ]
     },
     "execution_count": 11,
     "metadata": {},
     "output_type": "execute_result"
    }
   ],
   "source": [
    "data[data.duplicated(\"review_id\", keep =  False)].sort_values(by = \"review_id\")"
   ]
  },
  {
   "cell_type": "code",
   "execution_count": 12,
   "id": "86e40424",
   "metadata": {},
   "outputs": [],
   "source": [
    "data.drop_duplicates(\"review_id\", inplace = True) #Removed duplicate"
   ]
  },
  {
   "cell_type": "code",
   "execution_count": 13,
   "id": "b8376880",
   "metadata": {},
   "outputs": [],
   "source": [
    "data.fillna('', inplace = True)"
   ]
  },
  {
   "cell_type": "code",
   "execution_count": 14,
   "id": "4349c53f",
   "metadata": {},
   "outputs": [],
   "source": [
    "#combine coment title and message\n",
    "data['review'] = data['review_comment_title'] + ' ' + data['review_comment_message']"
   ]
  },
  {
   "cell_type": "code",
   "execution_count": 15,
   "id": "14554e37",
   "metadata": {},
   "outputs": [],
   "source": [
    "data = data[data['review'] != ' ']"
   ]
  },
  {
   "cell_type": "code",
   "execution_count": 16,
   "id": "a4c4dd42",
   "metadata": {},
   "outputs": [
    {
     "data": {
      "text/html": [
       "<div>\n",
       "<style scoped>\n",
       "    .dataframe tbody tr th:only-of-type {\n",
       "        vertical-align: middle;\n",
       "    }\n",
       "\n",
       "    .dataframe tbody tr th {\n",
       "        vertical-align: top;\n",
       "    }\n",
       "\n",
       "    .dataframe thead th {\n",
       "        text-align: right;\n",
       "    }\n",
       "</style>\n",
       "<table border=\"1\" class=\"dataframe\">\n",
       "  <thead>\n",
       "    <tr style=\"text-align: right;\">\n",
       "      <th></th>\n",
       "      <th>review_id</th>\n",
       "      <th>review_score</th>\n",
       "      <th>review_comment_title</th>\n",
       "      <th>review_comment_message</th>\n",
       "      <th>review</th>\n",
       "    </tr>\n",
       "  </thead>\n",
       "  <tbody>\n",
       "    <tr>\n",
       "      <th>3</th>\n",
       "      <td>e64fb393e7b32834bb789ff8bb30750e</td>\n",
       "      <td>5</td>\n",
       "      <td></td>\n",
       "      <td>Recebi bem antes do prazo estipulado.</td>\n",
       "      <td>Recebi bem antes do prazo estipulado.</td>\n",
       "    </tr>\n",
       "    <tr>\n",
       "      <th>4</th>\n",
       "      <td>f7c4243c7fe1938f181bec41a392bdeb</td>\n",
       "      <td>5</td>\n",
       "      <td></td>\n",
       "      <td>Parabéns lojas lannister adorei comprar pela I...</td>\n",
       "      <td>Parabéns lojas lannister adorei comprar pela ...</td>\n",
       "    </tr>\n",
       "    <tr>\n",
       "      <th>9</th>\n",
       "      <td>8670d52e15e00043ae7de4c01cc2fe06</td>\n",
       "      <td>4</td>\n",
       "      <td>recomendo</td>\n",
       "      <td>aparelho eficiente. no site a marca do aparelh...</td>\n",
       "      <td>recomendo aparelho eficiente. no site a marca ...</td>\n",
       "    </tr>\n",
       "    <tr>\n",
       "      <th>12</th>\n",
       "      <td>4b49719c8a200003f700d3d986ea1a19</td>\n",
       "      <td>4</td>\n",
       "      <td></td>\n",
       "      <td>Mas um pouco ,travando...pelo valor ta Boa.\\r\\n</td>\n",
       "      <td>Mas um pouco ,travando...pelo valor ta Boa.\\r\\n</td>\n",
       "    </tr>\n",
       "    <tr>\n",
       "      <th>15</th>\n",
       "      <td>3948b09f7c818e2d86c9a546758b2335</td>\n",
       "      <td>5</td>\n",
       "      <td>Super recomendo</td>\n",
       "      <td>Vendedor confiável, produto ok e entrega antes...</td>\n",
       "      <td>Super recomendo Vendedor confiável, produto ok...</td>\n",
       "    </tr>\n",
       "    <tr>\n",
       "      <th>16</th>\n",
       "      <td>9314d6f9799f5bfba510cc7bcd468c01</td>\n",
       "      <td>2</td>\n",
       "      <td></td>\n",
       "      <td>GOSTARIA DE SABER O QUE HOUVE, SEMPRE RECEBI E...</td>\n",
       "      <td>GOSTARIA DE SABER O QUE HOUVE, SEMPRE RECEBI ...</td>\n",
       "    </tr>\n",
       "    <tr>\n",
       "      <th>19</th>\n",
       "      <td>373cbeecea8286a2b66c97b1b157ec46</td>\n",
       "      <td>1</td>\n",
       "      <td>Não chegou meu produto</td>\n",
       "      <td>Péssimo</td>\n",
       "      <td>Não chegou meu produto  Péssimo</td>\n",
       "    </tr>\n",
       "    <tr>\n",
       "      <th>22</th>\n",
       "      <td>d21bbc789670eab777d27372ab9094cc</td>\n",
       "      <td>5</td>\n",
       "      <td>Ótimo</td>\n",
       "      <td>Loja nota 10</td>\n",
       "      <td>Ótimo Loja nota 10</td>\n",
       "    </tr>\n",
       "    <tr>\n",
       "      <th>24</th>\n",
       "      <td>0e0190b9db53b689b285d3f3916f8441</td>\n",
       "      <td>5</td>\n",
       "      <td></td>\n",
       "      <td>obrigado pela atençao amim dispensada</td>\n",
       "      <td>obrigado pela atençao amim dispensada</td>\n",
       "    </tr>\n",
       "    <tr>\n",
       "      <th>27</th>\n",
       "      <td>fe3db7c069d694bab50cc43463f91608</td>\n",
       "      <td>5</td>\n",
       "      <td></td>\n",
       "      <td>A compra foi realizada facilmente.\\r\\nA entreg...</td>\n",
       "      <td>A compra foi realizada facilmente.\\r\\nA entre...</td>\n",
       "    </tr>\n",
       "  </tbody>\n",
       "</table>\n",
       "</div>"
      ],
      "text/plain": [
       "                           review_id  review_score     review_comment_title  \\\n",
       "3   e64fb393e7b32834bb789ff8bb30750e             5                            \n",
       "4   f7c4243c7fe1938f181bec41a392bdeb             5                            \n",
       "9   8670d52e15e00043ae7de4c01cc2fe06             4                recomendo   \n",
       "12  4b49719c8a200003f700d3d986ea1a19             4                            \n",
       "15  3948b09f7c818e2d86c9a546758b2335             5          Super recomendo   \n",
       "16  9314d6f9799f5bfba510cc7bcd468c01             2                            \n",
       "19  373cbeecea8286a2b66c97b1b157ec46             1  Não chegou meu produto    \n",
       "22  d21bbc789670eab777d27372ab9094cc             5                    Ótimo   \n",
       "24  0e0190b9db53b689b285d3f3916f8441             5                            \n",
       "27  fe3db7c069d694bab50cc43463f91608             5                            \n",
       "\n",
       "                               review_comment_message  \\\n",
       "3               Recebi bem antes do prazo estipulado.   \n",
       "4   Parabéns lojas lannister adorei comprar pela I...   \n",
       "9   aparelho eficiente. no site a marca do aparelh...   \n",
       "12    Mas um pouco ,travando...pelo valor ta Boa.\\r\\n   \n",
       "15  Vendedor confiável, produto ok e entrega antes...   \n",
       "16  GOSTARIA DE SABER O QUE HOUVE, SEMPRE RECEBI E...   \n",
       "19                                            Péssimo   \n",
       "22                                       Loja nota 10   \n",
       "24              obrigado pela atençao amim dispensada   \n",
       "27  A compra foi realizada facilmente.\\r\\nA entreg...   \n",
       "\n",
       "                                               review  \n",
       "3               Recebi bem antes do prazo estipulado.  \n",
       "4    Parabéns lojas lannister adorei comprar pela ...  \n",
       "9   recomendo aparelho eficiente. no site a marca ...  \n",
       "12    Mas um pouco ,travando...pelo valor ta Boa.\\r\\n  \n",
       "15  Super recomendo Vendedor confiável, produto ok...  \n",
       "16   GOSTARIA DE SABER O QUE HOUVE, SEMPRE RECEBI ...  \n",
       "19                    Não chegou meu produto  Péssimo  \n",
       "22                                 Ótimo Loja nota 10  \n",
       "24              obrigado pela atençao amim dispensada  \n",
       "27   A compra foi realizada facilmente.\\r\\nA entre...  "
      ]
     },
     "execution_count": 16,
     "metadata": {},
     "output_type": "execute_result"
    }
   ],
   "source": [
    "data.head(10)"
   ]
  },
  {
   "cell_type": "code",
   "execution_count": 17,
   "id": "33356632",
   "metadata": {},
   "outputs": [
    {
     "name": "stdout",
     "output_type": "stream",
     "text": [
      "<class 'pandas.core.frame.DataFrame'>\n",
      "Int64Index: 43152 entries, 3 to 99999\n",
      "Data columns (total 5 columns):\n",
      " #   Column                  Non-Null Count  Dtype \n",
      "---  ------                  --------------  ----- \n",
      " 0   review_id               43152 non-null  object\n",
      " 1   review_score            43152 non-null  int64 \n",
      " 2   review_comment_title    43152 non-null  object\n",
      " 3   review_comment_message  43152 non-null  object\n",
      " 4   review                  43152 non-null  object\n",
      "dtypes: int64(1), object(4)\n",
      "memory usage: 2.0+ MB\n"
     ]
    }
   ],
   "source": [
    "data.info()"
   ]
  },
  {
   "cell_type": "code",
   "execution_count": 18,
   "id": "634aff5f",
   "metadata": {},
   "outputs": [
    {
     "data": {
      "text/plain": [
       "5    21762\n",
       "1     9153\n",
       "4     6296\n",
       "3     3721\n",
       "2     2220\n",
       "Name: review_score, dtype: int64"
      ]
     },
     "execution_count": 18,
     "metadata": {},
     "output_type": "execute_result"
    }
   ],
   "source": [
    "# review score\n",
    "data['review_score'].value_counts()"
   ]
  },
  {
   "cell_type": "code",
   "execution_count": 19,
   "id": "58d349a1",
   "metadata": {},
   "outputs": [],
   "source": [
    "labels = []\n",
    "\n",
    "for score in data['review_score']:\n",
    "  if score > 3:\n",
    "    labels.append(1)\n",
    "  else:\n",
    "    labels.append(0)\n",
    "\n",
    "data['label'] = labels\n"
   ]
  },
  {
   "cell_type": "code",
   "execution_count": 20,
   "id": "fbeb116a",
   "metadata": {},
   "outputs": [
    {
     "data": {
      "text/html": [
       "<div>\n",
       "<style scoped>\n",
       "    .dataframe tbody tr th:only-of-type {\n",
       "        vertical-align: middle;\n",
       "    }\n",
       "\n",
       "    .dataframe tbody tr th {\n",
       "        vertical-align: top;\n",
       "    }\n",
       "\n",
       "    .dataframe thead th {\n",
       "        text-align: right;\n",
       "    }\n",
       "</style>\n",
       "<table border=\"1\" class=\"dataframe\">\n",
       "  <thead>\n",
       "    <tr style=\"text-align: right;\">\n",
       "      <th></th>\n",
       "      <th>review_id</th>\n",
       "      <th>review_score</th>\n",
       "      <th>review_comment_title</th>\n",
       "      <th>review_comment_message</th>\n",
       "      <th>review</th>\n",
       "      <th>label</th>\n",
       "    </tr>\n",
       "  </thead>\n",
       "  <tbody>\n",
       "    <tr>\n",
       "      <th>3</th>\n",
       "      <td>e64fb393e7b32834bb789ff8bb30750e</td>\n",
       "      <td>5</td>\n",
       "      <td></td>\n",
       "      <td>Recebi bem antes do prazo estipulado.</td>\n",
       "      <td>Recebi bem antes do prazo estipulado.</td>\n",
       "      <td>1</td>\n",
       "    </tr>\n",
       "    <tr>\n",
       "      <th>4</th>\n",
       "      <td>f7c4243c7fe1938f181bec41a392bdeb</td>\n",
       "      <td>5</td>\n",
       "      <td></td>\n",
       "      <td>Parabéns lojas lannister adorei comprar pela I...</td>\n",
       "      <td>Parabéns lojas lannister adorei comprar pela ...</td>\n",
       "      <td>1</td>\n",
       "    </tr>\n",
       "    <tr>\n",
       "      <th>9</th>\n",
       "      <td>8670d52e15e00043ae7de4c01cc2fe06</td>\n",
       "      <td>4</td>\n",
       "      <td>recomendo</td>\n",
       "      <td>aparelho eficiente. no site a marca do aparelh...</td>\n",
       "      <td>recomendo aparelho eficiente. no site a marca ...</td>\n",
       "      <td>1</td>\n",
       "    </tr>\n",
       "    <tr>\n",
       "      <th>12</th>\n",
       "      <td>4b49719c8a200003f700d3d986ea1a19</td>\n",
       "      <td>4</td>\n",
       "      <td></td>\n",
       "      <td>Mas um pouco ,travando...pelo valor ta Boa.\\r\\n</td>\n",
       "      <td>Mas um pouco ,travando...pelo valor ta Boa.\\r\\n</td>\n",
       "      <td>1</td>\n",
       "    </tr>\n",
       "    <tr>\n",
       "      <th>15</th>\n",
       "      <td>3948b09f7c818e2d86c9a546758b2335</td>\n",
       "      <td>5</td>\n",
       "      <td>Super recomendo</td>\n",
       "      <td>Vendedor confiável, produto ok e entrega antes...</td>\n",
       "      <td>Super recomendo Vendedor confiável, produto ok...</td>\n",
       "      <td>1</td>\n",
       "    </tr>\n",
       "  </tbody>\n",
       "</table>\n",
       "</div>"
      ],
      "text/plain": [
       "                           review_id  review_score review_comment_title  \\\n",
       "3   e64fb393e7b32834bb789ff8bb30750e             5                        \n",
       "4   f7c4243c7fe1938f181bec41a392bdeb             5                        \n",
       "9   8670d52e15e00043ae7de4c01cc2fe06             4            recomendo   \n",
       "12  4b49719c8a200003f700d3d986ea1a19             4                        \n",
       "15  3948b09f7c818e2d86c9a546758b2335             5      Super recomendo   \n",
       "\n",
       "                               review_comment_message  \\\n",
       "3               Recebi bem antes do prazo estipulado.   \n",
       "4   Parabéns lojas lannister adorei comprar pela I...   \n",
       "9   aparelho eficiente. no site a marca do aparelh...   \n",
       "12    Mas um pouco ,travando...pelo valor ta Boa.\\r\\n   \n",
       "15  Vendedor confiável, produto ok e entrega antes...   \n",
       "\n",
       "                                               review  label  \n",
       "3               Recebi bem antes do prazo estipulado.      1  \n",
       "4    Parabéns lojas lannister adorei comprar pela ...      1  \n",
       "9   recomendo aparelho eficiente. no site a marca ...      1  \n",
       "12    Mas um pouco ,travando...pelo valor ta Boa.\\r\\n      1  \n",
       "15  Super recomendo Vendedor confiável, produto ok...      1  "
      ]
     },
     "execution_count": 20,
     "metadata": {},
     "output_type": "execute_result"
    }
   ],
   "source": [
    "data.head(5)"
   ]
  },
  {
   "cell_type": "code",
   "execution_count": 21,
   "id": "43e2eb9b",
   "metadata": {},
   "outputs": [
    {
     "data": {
      "text/plain": [
       "<Figure size 576x432 with 0 Axes>"
      ]
     },
     "execution_count": 21,
     "metadata": {},
     "output_type": "execute_result"
    },
    {
     "name": "stderr",
     "output_type": "stream",
     "text": [
      "/Users/mohannollu/opt/anaconda3/lib/python3.8/site-packages/seaborn/_decorators.py:36: FutureWarning: Pass the following variable as a keyword arg: x. From version 0.12, the only valid positional argument will be `data`, and passing other arguments without an explicit keyword will result in an error or misinterpretation.\n",
      "  warnings.warn(\n"
     ]
    },
    {
     "data": {
      "text/plain": [
       "<AxesSubplot:xlabel='label', ylabel='count'>"
      ]
     },
     "execution_count": 21,
     "metadata": {},
     "output_type": "execute_result"
    },
    {
     "data": {
      "image/png": "[encoded data removed]",
      "text/plain": [
       "<Figure size 576x432 with 1 Axes>"
      ]
     },
     "metadata": {
      "needs_background": "light"
     },
     "output_type": "display_data"
    }
   ],
   "source": [
    "plt.figure(figsize=(8,6))\n",
    "sns.countplot(data['label'])\n",
    "plt.show()\n"
   ]
  },
  {
   "cell_type": "code",
   "execution_count": 22,
   "id": "0b947a1d",
   "metadata": {},
   "outputs": [
    {
     "name": "stderr",
     "output_type": "stream",
     "text": [
      "[nltk_data] Downloading package stopwords to\n",
      "[nltk_data]     /Users/mohannollu/nltk_data...\n",
      "[nltk_data]   Unzipping corpora/stopwords.zip.\n"
     ]
    },
    {
     "data": {
      "text/plain": [
       "True"
      ]
     },
     "execution_count": 22,
     "metadata": {},
     "output_type": "execute_result"
    }
   ],
   "source": [
    "import nltk\n",
    "nltk.download('stopwords')\n",
    "from nltk.corpus import stopwords"
   ]
  },
  {
   "cell_type": "code",
   "execution_count": 24,
   "id": "d3abf360",
   "metadata": {},
   "outputs": [],
   "source": [
    "stopwords_pt = stopwords.words(\"portuguese\")\n"
   ]
  },
  {
   "cell_type": "code",
   "execution_count": 25,
   "id": "abd5a299",
   "metadata": {},
   "outputs": [],
   "source": [
    "stopwords_pt.remove('não')\n",
    "stopwords_pt.remove('nem')"
   ]
  },
  {
   "cell_type": "code",
   "execution_count": 26,
   "id": "c220b609",
   "metadata": {},
   "outputs": [],
   "source": [
    "def simple_text(text):\n",
    "\n",
    "  text = text.lower()\n",
    "\n",
    "  text = re.sub(r\"[\\W\\d_]+\", \" \", text)\n",
    "\n",
    "  text = [t for t in text.split() if t not in stopwords_pt]\n",
    "\n",
    "  specific_text = spc_pt(\" \".join(text))\n",
    "  tokens = [word.lemma_ if word.lemma_ != \"-PRON-\" else word.lower_ for word in specific_text]\n",
    "  \n",
    "  return \" \".join(tokens)"
   ]
  },
  {
   "cell_type": "code",
   "execution_count": 27,
   "id": "82589f57",
   "metadata": {},
   "outputs": [],
   "source": [
    "data['review'] = data['review'].apply(simple_text)"
   ]
  },
  {
   "cell_type": "code",
   "execution_count": 28,
   "id": "cccaa7fa",
   "metadata": {},
   "outputs": [
    {
     "name": "stdout",
     "output_type": "stream",
     "text": [
      "<class 'pandas.core.frame.DataFrame'>\n",
      "Int64Index: 43152 entries, 3 to 99999\n",
      "Data columns (total 6 columns):\n",
      " #   Column                  Non-Null Count  Dtype \n",
      "---  ------                  --------------  ----- \n",
      " 0   review_id               43152 non-null  object\n",
      " 1   review_score            43152 non-null  int64 \n",
      " 2   review_comment_title    43152 non-null  object\n",
      " 3   review_comment_message  43152 non-null  object\n",
      " 4   review                  43152 non-null  object\n",
      " 5   label                   43152 non-null  int64 \n",
      "dtypes: int64(2), object(4)\n",
      "memory usage: 3.3+ MB\n"
     ]
    }
   ],
   "source": [
    "data.info()"
   ]
  },
  {
   "cell_type": "code",
   "execution_count": 29,
   "id": "2b881f15",
   "metadata": {},
   "outputs": [
    {
     "data": {
      "text/html": [
       "<div>\n",
       "<style scoped>\n",
       "    .dataframe tbody tr th:only-of-type {\n",
       "        vertical-align: middle;\n",
       "    }\n",
       "\n",
       "    .dataframe tbody tr th {\n",
       "        vertical-align: top;\n",
       "    }\n",
       "\n",
       "    .dataframe thead th {\n",
       "        text-align: right;\n",
       "    }\n",
       "</style>\n",
       "<table border=\"1\" class=\"dataframe\">\n",
       "  <thead>\n",
       "    <tr style=\"text-align: right;\">\n",
       "      <th></th>\n",
       "      <th>review_id</th>\n",
       "      <th>review_score</th>\n",
       "      <th>review_comment_title</th>\n",
       "      <th>review_comment_message</th>\n",
       "      <th>review</th>\n",
       "      <th>label</th>\n",
       "    </tr>\n",
       "  </thead>\n",
       "  <tbody>\n",
       "    <tr>\n",
       "      <th>3</th>\n",
       "      <td>e64fb393e7b32834bb789ff8bb30750e</td>\n",
       "      <td>5</td>\n",
       "      <td></td>\n",
       "      <td>Recebi bem antes do prazo estipulado.</td>\n",
       "      <td>receber bem antar prazo estipular</td>\n",
       "      <td>1</td>\n",
       "    </tr>\n",
       "    <tr>\n",
       "      <th>4</th>\n",
       "      <td>f7c4243c7fe1938f181bec41a392bdeb</td>\n",
       "      <td>5</td>\n",
       "      <td></td>\n",
       "      <td>Parabéns lojas lannister adorei comprar pela I...</td>\n",
       "      <td>parabém loja lannister adorar comprar internet...</td>\n",
       "      <td>1</td>\n",
       "    </tr>\n",
       "    <tr>\n",
       "      <th>9</th>\n",
       "      <td>8670d52e15e00043ae7de4c01cc2fe06</td>\n",
       "      <td>4</td>\n",
       "      <td>recomendo</td>\n",
       "      <td>aparelho eficiente. no site a marca do aparelh...</td>\n",
       "      <td>recomendar aparelhar eficiente site marcar apa...</td>\n",
       "      <td>1</td>\n",
       "    </tr>\n",
       "    <tr>\n",
       "      <th>12</th>\n",
       "      <td>4b49719c8a200003f700d3d986ea1a19</td>\n",
       "      <td>4</td>\n",
       "      <td></td>\n",
       "      <td>Mas um pouco ,travando...pelo valor ta Boa.\\r\\n</td>\n",
       "      <td>pouco travar valor ta bom</td>\n",
       "      <td>1</td>\n",
       "    </tr>\n",
       "    <tr>\n",
       "      <th>15</th>\n",
       "      <td>3948b09f7c818e2d86c9a546758b2335</td>\n",
       "      <td>5</td>\n",
       "      <td>Super recomendo</td>\n",
       "      <td>Vendedor confiável, produto ok e entrega antes...</td>\n",
       "      <td>super recomendar vendedor confiável produto ok...</td>\n",
       "      <td>1</td>\n",
       "    </tr>\n",
       "    <tr>\n",
       "      <th>16</th>\n",
       "      <td>9314d6f9799f5bfba510cc7bcd468c01</td>\n",
       "      <td>2</td>\n",
       "      <td></td>\n",
       "      <td>GOSTARIA DE SABER O QUE HOUVE, SEMPRE RECEBI E...</td>\n",
       "      <td>gostar saber sempre receber comprar agora decp...</td>\n",
       "      <td>0</td>\n",
       "    </tr>\n",
       "    <tr>\n",
       "      <th>19</th>\n",
       "      <td>373cbeecea8286a2b66c97b1b157ec46</td>\n",
       "      <td>1</td>\n",
       "      <td>Não chegou meu produto</td>\n",
       "      <td>Péssimo</td>\n",
       "      <td>não chegar produto mau</td>\n",
       "      <td>0</td>\n",
       "    </tr>\n",
       "    <tr>\n",
       "      <th>22</th>\n",
       "      <td>d21bbc789670eab777d27372ab9094cc</td>\n",
       "      <td>5</td>\n",
       "      <td>Ótimo</td>\n",
       "      <td>Loja nota 10</td>\n",
       "      <td>ótimo loja noto</td>\n",
       "      <td>1</td>\n",
       "    </tr>\n",
       "    <tr>\n",
       "      <th>24</th>\n",
       "      <td>0e0190b9db53b689b285d3f3916f8441</td>\n",
       "      <td>5</td>\n",
       "      <td></td>\n",
       "      <td>obrigado pela atençao amim dispensada</td>\n",
       "      <td>obrigar atençao amim dispensar</td>\n",
       "      <td>1</td>\n",
       "    </tr>\n",
       "    <tr>\n",
       "      <th>27</th>\n",
       "      <td>fe3db7c069d694bab50cc43463f91608</td>\n",
       "      <td>5</td>\n",
       "      <td></td>\n",
       "      <td>A compra foi realizada facilmente.\\r\\nA entreg...</td>\n",
       "      <td>comprar realizar facilmente entregar efetuada ...</td>\n",
       "      <td>1</td>\n",
       "    </tr>\n",
       "  </tbody>\n",
       "</table>\n",
       "</div>"
      ],
      "text/plain": [
       "                           review_id  review_score     review_comment_title  \\\n",
       "3   e64fb393e7b32834bb789ff8bb30750e             5                            \n",
       "4   f7c4243c7fe1938f181bec41a392bdeb             5                            \n",
       "9   8670d52e15e00043ae7de4c01cc2fe06             4                recomendo   \n",
       "12  4b49719c8a200003f700d3d986ea1a19             4                            \n",
       "15  3948b09f7c818e2d86c9a546758b2335             5          Super recomendo   \n",
       "16  9314d6f9799f5bfba510cc7bcd468c01             2                            \n",
       "19  373cbeecea8286a2b66c97b1b157ec46             1  Não chegou meu produto    \n",
       "22  d21bbc789670eab777d27372ab9094cc             5                    Ótimo   \n",
       "24  0e0190b9db53b689b285d3f3916f8441             5                            \n",
       "27  fe3db7c069d694bab50cc43463f91608             5                            \n",
       "\n",
       "                               review_comment_message  \\\n",
       "3               Recebi bem antes do prazo estipulado.   \n",
       "4   Parabéns lojas lannister adorei comprar pela I...   \n",
       "9   aparelho eficiente. no site a marca do aparelh...   \n",
       "12    Mas um pouco ,travando...pelo valor ta Boa.\\r\\n   \n",
       "15  Vendedor confiável, produto ok e entrega antes...   \n",
       "16  GOSTARIA DE SABER O QUE HOUVE, SEMPRE RECEBI E...   \n",
       "19                                            Péssimo   \n",
       "22                                       Loja nota 10   \n",
       "24              obrigado pela atençao amim dispensada   \n",
       "27  A compra foi realizada facilmente.\\r\\nA entreg...   \n",
       "\n",
       "                                               review  label  \n",
       "3                   receber bem antar prazo estipular      1  \n",
       "4   parabém loja lannister adorar comprar internet...      1  \n",
       "9   recomendar aparelhar eficiente site marcar apa...      1  \n",
       "12                          pouco travar valor ta bom      1  \n",
       "15  super recomendar vendedor confiável produto ok...      1  \n",
       "16  gostar saber sempre receber comprar agora decp...      0  \n",
       "19                             não chegar produto mau      0  \n",
       "22                                    ótimo loja noto      1  \n",
       "24                     obrigar atençao amim dispensar      1  \n",
       "27  comprar realizar facilmente entregar efetuada ...      1  "
      ]
     },
     "execution_count": 29,
     "metadata": {},
     "output_type": "execute_result"
    }
   ],
   "source": [
    "\n",
    "data.head(10)"
   ]
  },
  {
   "cell_type": "code",
   "execution_count": 30,
   "id": "bae3ba5c",
   "metadata": {},
   "outputs": [],
   "source": [
    "data.to_csv('olist_preprocessado.csv', index= False, columns= ['review_id', 'review', 'label'])"
   ]
  },
  {
   "cell_type": "code",
   "execution_count": 31,
   "id": "413331cf",
   "metadata": {},
   "outputs": [],
   "source": [
    "from sklearn.feature_extraction.text import CountVectorizer"
   ]
  },
  {
   "cell_type": "code",
   "execution_count": 32,
   "id": "585eb623",
   "metadata": {},
   "outputs": [],
   "source": [
    "vectorizer = CountVectorizer(binary=True, max_features=5000)\n",
    "\n",
    "text = data['review']\n",
    "X_bow = vectorizer.fit_transform(text)"
   ]
  },
  {
   "cell_type": "code",
   "execution_count": 33,
   "id": "2b4638b3",
   "metadata": {},
   "outputs": [
    {
     "data": {
      "text/plain": [
       "array([[0, 0, 0, ..., 0, 0, 0],\n",
       "       [0, 0, 0, ..., 0, 0, 0],\n",
       "       [0, 0, 0, ..., 0, 0, 0],\n",
       "       ...,\n",
       "       [0, 0, 0, ..., 0, 0, 0],\n",
       "       [0, 0, 0, ..., 0, 0, 0],\n",
       "       [0, 0, 0, ..., 0, 0, 0]])"
      ]
     },
     "execution_count": 33,
     "metadata": {},
     "output_type": "execute_result"
    }
   ],
   "source": [
    "X_bow.toarray()"
   ]
  },
  {
   "cell_type": "code",
   "execution_count": 34,
   "id": "55283cf8",
   "metadata": {},
   "outputs": [
    {
     "name": "stdout",
     "output_type": "stream",
     "text": [
      "(43152, 5000) <class 'scipy.sparse.csr.csr_matrix'>\n"
     ]
    }
   ],
   "source": [
    "\n",
    "print(X_bow.shape, type(X_bow))"
   ]
  },
  {
   "cell_type": "code",
   "execution_count": 35,
   "id": "aad8915a",
   "metadata": {},
   "outputs": [],
   "source": [
    "from sklearn.feature_extraction.text import TfidfVectorizer"
   ]
  },
  {
   "cell_type": "code",
   "execution_count": 36,
   "id": "6bfa16fa",
   "metadata": {},
   "outputs": [],
   "source": [
    "tfidf_vect = TfidfVectorizer(max_features=5000)\n",
    "X_tfidf = tfidf_vect.fit_transform(text)"
   ]
  },
  {
   "cell_type": "code",
   "execution_count": 37,
   "id": "18d5b0e2",
   "metadata": {},
   "outputs": [
    {
     "name": "stdout",
     "output_type": "stream",
     "text": [
      "  (0, 1883)\t0.6929845750066604\n",
      "  (0, 3677)\t0.30582204275116415\n",
      "  (0, 269)\t0.3529748289184372\n",
      "  (0, 578)\t0.427882135533294\n",
      "  (0, 3994)\t0.34434126272030036\n",
      "  (1, 3873)\t0.47846657405507714\n",
      "  (1, 2060)\t0.30329552333345583\n",
      "  (1, 4625)\t0.2122474442238849\n",
      "  (1, 3846)\t0.32356855001772633\n",
      "  (1, 4325)\t0.3310383748193441\n",
      "  (1, 2564)\t0.3119241979143323\n",
      "  (1, 1018)\t0.12848597336592513\n",
      "  (1, 85)\t0.21633389797703662\n",
      "  (1, 2675)\t0.20446904414639935\n",
      "  (1, 2783)\t0.16840400503886988\n",
      "  (1, 3391)\t0.4347141225647072\n",
      "  (2, 4850)\t0.1814508898432659\n",
      "  (2, 1179)\t0.1652280619841952\n",
      "  (2, 444)\t0.29561525042009507\n",
      "  (2, 3185)\t0.23428872872129516\n",
      "  (2, 3348)\t0.14552128500528355\n",
      "  (2, 877)\t0.095095271004217\n",
      "  (2, 2445)\t0.29561525042009507\n",
      "  (2, 2887)\t0.40088120455728765\n",
      "  (2, 4404)\t0.14898195501604616\n",
      "  :\t:\n",
      "  (43150, 3748)\t0.29943684804148946\n",
      "  (43150, 837)\t0.30781141837200193\n",
      "  (43150, 795)\t0.20544408896673358\n",
      "  (43150, 2665)\t0.46337723877546233\n",
      "  (43150, 1499)\t0.18814180530928598\n",
      "  (43150, 3009)\t0.18927717780845332\n",
      "  (43150, 3728)\t0.18345059288170307\n",
      "  (43150, 1286)\t0.1757610072073222\n",
      "  (43150, 765)\t0.3517303187851776\n",
      "  (43150, 133)\t0.13676197527579861\n",
      "  (43150, 2081)\t0.1313593480698378\n",
      "  (43150, 2984)\t0.1926027091696346\n",
      "  (43150, 4430)\t0.158592539006033\n",
      "  (43150, 3348)\t0.1305122751506775\n",
      "  (43150, 877)\t0.08528718100846892\n",
      "  (43150, 1018)\t0.0826587516187078\n",
      "  (43151, 783)\t0.5406397348423655\n",
      "  (43151, 1461)\t0.3477421899504088\n",
      "  (43151, 2601)\t0.35753075077748786\n",
      "  (43151, 1300)\t0.3351783907877209\n",
      "  (43151, 3585)\t0.28415174443962193\n",
      "  (43151, 3228)\t0.15578657511166305\n",
      "  (43151, 3774)\t0.11146670838507884\n",
      "  (43151, 877)\t0.17797375207137858\n",
      "  (43151, 4325)\t0.4444098341371841\n"
     ]
    }
   ],
   "source": [
    "print(X_tfidf)\n"
   ]
  },
  {
   "cell_type": "code",
   "execution_count": 38,
   "id": "5ad2ffc1",
   "metadata": {},
   "outputs": [],
   "source": [
    "from sklearn.model_selection import train_test_split\n"
   ]
  },
  {
   "cell_type": "code",
   "execution_count": 39,
   "id": "b9f5f927",
   "metadata": {},
   "outputs": [],
   "source": [
    "X1_train, X1_test, y1_train, y1_test = train_test_split(X_bow, data['label'],\n",
    "                                                        test_size=0.3, random_state = 10)\n",
    "\n",
    "X2_train, X2_test, y2_train, y2_test = train_test_split(X_tfidf, data['label'],\n",
    "                                                        test_size=0.3, random_state = 10)"
   ]
  },
  {
   "cell_type": "code",
   "execution_count": 40,
   "id": "150610d0",
   "metadata": {},
   "outputs": [],
   "source": [
    "from sklearn.metrics import accuracy_score, confusion_matrix, f1_score, roc_auc_score"
   ]
  },
  {
   "cell_type": "code",
   "execution_count": 52,
   "id": "40849cc9",
   "metadata": {},
   "outputs": [],
   "source": [
    "def Result(y_true, y_pred):\n",
    "  print(\"\\nF1-Score:\", f1_score(y_true, y_pred, average='weighted'))\n",
    "  plt.show()"
   ]
  },
  {
   "cell_type": "code",
   "execution_count": 53,
   "id": "52b9e248",
   "metadata": {},
   "outputs": [
    {
     "name": "stderr",
     "output_type": "stream",
     "text": [
      "/Users/mohannollu/opt/anaconda3/lib/python3.8/site-packages/sklearn/linear_model/_logistic.py:763: ConvergenceWarning: lbfgs failed to converge (status=1):\n",
      "STOP: TOTAL NO. of ITERATIONS REACHED LIMIT.\n",
      "\n",
      "Increase the number of iterations (max_iter) or scale the data as shown in:\n",
      "    https://scikit-learn.org/stable/modules/preprocessing.html\n",
      "Please also refer to the documentation for alternative solver options:\n",
      "    https://scikit-learn.org/stable/modules/linear_model.html#logistic-regression\n",
      "  n_iter_i = _check_optimize_result(\n"
     ]
    },
    {
     "data": {
      "text/plain": [
       "LogisticRegression()"
      ]
     },
     "execution_count": 53,
     "metadata": {},
     "output_type": "execute_result"
    },
    {
     "name": "stdout",
     "output_type": "stream",
     "text": [
      "\n",
      "F1-Score: 0.8939809804110078\n"
     ]
    }
   ],
   "source": [
    "LR = LogisticRegression()\n",
    "LR.fit(X1_train, y1_train)\n",
    "y1_LR_pred = LR.predict(X1_test)\n",
    "Result(y1_test, y1_LR_pred)"
   ]
  },
  {
   "cell_type": "code",
   "execution_count": 54,
   "id": "286bc130",
   "metadata": {},
   "outputs": [
    {
     "data": {
      "text/plain": [
       "LogisticRegression()"
      ]
     },
     "execution_count": 54,
     "metadata": {},
     "output_type": "execute_result"
    },
    {
     "name": "stdout",
     "output_type": "stream",
     "text": [
      "\n",
      "F1-Score: 0.899100325723324\n"
     ]
    }
   ],
   "source": [
    "reglog2 = LogisticRegression()\n",
    "\n",
    "reglog2.fit(X2_train, y2_train)\n",
    "\n",
    "y2_reglog_pred = reglog2.predict(X2_test)\n",
    "\n",
    "Result(y2_test, y2_reglog_pred)"
   ]
  },
  {
   "cell_type": "code",
   "execution_count": 57,
   "id": "361f7acb",
   "metadata": {},
   "outputs": [],
   "source": [
    "def new_predictor(text):\n",
    "  \n",
    "  text_vectorize = tfidf_vect.transform([text])\n",
    "  pred = reglog2.predict(text_vectorize )\n",
    "\n",
    "  if pred == 0:\n",
    "    print(\"review is negative.\")\n",
    "  else:\n",
    "    print(\"review is positive.\")"
   ]
  },
  {
   "cell_type": "code",
   "execution_count": 58,
   "id": "058bd295",
   "metadata": {},
   "outputs": [
    {
     "name": "stdout",
     "output_type": "stream",
     "text": [
      "review is negative.\n"
     ]
    }
   ],
   "source": [
    "new_predictor(\"Demorou muito não gostei\")"
   ]
  }
 ],
 "metadata": {
  "kernelspec": {
   "display_name": "Python 3",
   "language": "python",
   "name": "python3"
  },
  "language_info": {
   "codemirror_mode": {
    "name": "ipython",
    "version": 3
   },
   "file_extension": ".py",
   "mimetype": "text/x-python",
   "name": "python",
   "nbconvert_exporter": "python",
   "pygments_lexer": "ipython3",
   "version": "3.8.8"
  }
 },
 "nbformat": 4,
 "nbformat_minor": 5
}
